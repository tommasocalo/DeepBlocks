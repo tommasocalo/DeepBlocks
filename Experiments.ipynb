{
 "cells": [
  {
   "cell_type": "code",
   "execution_count": 7,
   "metadata": {},
   "outputs": [],
   "source": [
    "import torch\n",
    "import torch.nn as nn\n",
    "import torch.nn.functional as F \n",
    "import pandas as pd\n",
    "import numpy as np"
   ]
  },
  {
   "cell_type": "code",
   "execution_count": 11,
   "metadata": {},
   "outputs": [],
   "source": [
    "data = pd.read_csv(\"mnist_traini.csv\")\n",
    "target = data['label']\n",
    "train_label=target.to_numpy()\n",
    "del data['label']\n",
    "train=data.to_numpy()\n",
    "val,val_label = np.array([]),np.array([])\n",
    "test,test_label = np.array([]),np.array([])\n",
    "data = torch.as_tensor(train).type(torch.FloatTensor).view(-1,28, 28)\n",
    "target = torch.as_tensor(train_label)\n",
    "\n"
   ]
  },
  {
   "cell_type": "raw",
   "metadata": {},
   "source": [
    "----TASK 1------\n",
    "Starting from data (images 28x28), and target (0-9),\n",
    "build a simple classificator using a three Fully connected node. "
   ]
  },
  {
   "cell_type": "markdown",
   "metadata": {},
   "source": [
    "----TASK 2------\n",
    "Starting from data (images 28x28), and target (0-9),\n",
    "build a generative neural network using as generator a three fully connected node architecture and as discriminator the same.\n",
    "\n",
    "#Generate random noise of a chosen dimension\n",
    "\n",
    "#propagate noise through generator to achieve the fake image that must have real image dimensions \n",
    "\n",
    "#alternate passing fake and real images to discriminator \n"
   ]
  }
 ],
 "metadata": {
  "kernelspec": {
   "display_name": "Python 3",
   "language": "python",
   "name": "python3"
  },
  "language_info": {
   "codemirror_mode": {
    "name": "ipython",
    "version": 3
   },
   "file_extension": ".py",
   "mimetype": "text/x-python",
   "name": "python",
   "nbconvert_exporter": "python",
   "pygments_lexer": "ipython3",
   "version": "3.8.6"
  }
 },
 "nbformat": 4,
 "nbformat_minor": 5
}
